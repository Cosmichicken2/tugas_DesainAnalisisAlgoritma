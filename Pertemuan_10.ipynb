{
  "nbformat": 4,
  "nbformat_minor": 0,
  "metadata": {
    "colab": {
      "provenance": [],
      "authorship_tag": "ABX9TyMaYBae435AmEf/CJyqjZ1A",
      "include_colab_link": true
    },
    "kernelspec": {
      "name": "python3",
      "display_name": "Python 3"
    },
    "language_info": {
      "name": "python"
    }
  },
  "cells": [
    {
      "cell_type": "markdown",
      "metadata": {
        "id": "view-in-github",
        "colab_type": "text"
      },
      "source": [
        "<a href=\"https://colab.research.google.com/github/Haykalilys/tugas_DesainAnalisisAlgoritma/blob/master/Pertemuan_10.ipynb\" target=\"_parent\"><img src=\"https://colab.research.google.com/assets/colab-badge.svg\" alt=\"Open In Colab\"/></a>"
      ]
    },
    {
      "cell_type": "code",
      "execution_count": 41,
      "metadata": {
        "colab": {
          "base_uri": "https://localhost:8080/"
        },
        "id": "qwx_EjnRU-SG",
        "outputId": "f844991a-98c5-44ef-912d-ab3b6514974b"
      },
      "outputs": [
        {
          "output_type": "stream",
          "name": "stdout",
          "text": [
            "Requirement already satisfied: pulp in /usr/local/lib/python3.10/dist-packages (2.7.0)\n"
          ]
        }
      ],
      "source": [
        "! pip install pulp"
      ]
    },
    {
      "cell_type": "code",
      "source": [
        "#instantiate our problem class\n",
        "model = pulp.LpProblem(\"ProfitMaximisingProblem\", pulp.LpMaximize)"
      ],
      "metadata": {
        "id": "gUxNiOzLVbqZ"
      },
      "execution_count": 58,
      "outputs": []
    },
    {
      "cell_type": "code",
      "source": [
        "A = pulp.LpVariable('A', lowBound=0, cat='Integer')\n",
        "B = pulp.LpVariable('B', lowBound=0, cat='Integer')"
      ],
      "metadata": {
        "id": "eIQTaccoWCxg"
      },
      "execution_count": 59,
      "outputs": []
    },
    {
      "cell_type": "code",
      "source": [
        "#objective function\n",
        "model += 4200 * A + 2800 * B, \"Profit\"\n",
        "#Constrainns\n",
        "model += 3 * A + 2 * B <= 20\n",
        "model += 4 * A + 3 * B <= 30\n",
        "model += 4 * A + 3 * B <= 44\n"
      ],
      "metadata": {
        "id": "pEw1GKE5WTJQ"
      },
      "execution_count": 60,
      "outputs": []
    },
    {
      "cell_type": "code",
      "source": [
        "#solve our problem\n",
        "model.solve()\n",
        "pulp.LpStatus[model.status]"
      ],
      "metadata": {
        "colab": {
          "base_uri": "https://localhost:8080/",
          "height": 35
        },
        "id": "HMAnqzRAW4hp",
        "outputId": "912aa746-d592-45c3-dc71-4edecfd6224c"
      },
      "execution_count": 61,
      "outputs": [
        {
          "output_type": "execute_result",
          "data": {
            "text/plain": [
              "'Optimal'"
            ],
            "application/vnd.google.colaboratory.intrinsic+json": {
              "type": "string"
            }
          },
          "metadata": {},
          "execution_count": 61
        }
      ]
    },
    {
      "cell_type": "code",
      "source": [
        "#print our decision variable variable values\n",
        "print (A.varValue)\n",
        "print (B.varValue)"
      ],
      "metadata": {
        "colab": {
          "base_uri": "https://localhost:8080/"
        },
        "id": "dWPWzAGvXmAw",
        "outputId": "bf2dfccc-e40c-4fa3-b55f-7cac4143dcf0"
      },
      "execution_count": 62,
      "outputs": [
        {
          "output_type": "stream",
          "name": "stdout",
          "text": [
            "6.0\n",
            "1.0\n"
          ]
        }
      ]
    },
    {
      "cell_type": "code",
      "source": [
        "#print our objective function value\n",
        "print (pulp.value(model. objective))"
      ],
      "metadata": {
        "colab": {
          "base_uri": "https://localhost:8080/"
        },
        "id": "rVcfoJgfYJsf",
        "outputId": "910d22e7-ee5f-4abe-b4e1-4444bfc62d54"
      },
      "execution_count": 63,
      "outputs": [
        {
          "output_type": "stream",
          "name": "stdout",
          "text": [
            "28000.0\n"
          ]
        }
      ]
    },
    {
      "cell_type": "code",
      "source": [
        "# from pulp.pulp import LpVariable\n",
        "# 4x + 3y = 34\n",
        "import pulp\n",
        "\n",
        "# membuat objek masalah optimasi\n",
        "model = pulp.LpProblem(name=\"Pemecahan_Persamaan\", sense=LpMinimize)\n",
        "\n",
        "# membuat variable x dan y\n",
        "x = LpVariable(name=\"x\")\n",
        "y = LpVariable(name=\"y\")\n",
        "\n",
        "# menambahkan batasan\n",
        "model += 4 * x + 3 * y == 34\n",
        "\n",
        "# menyelesaikan masalah\n",
        "model.solve()\n",
        "\n",
        "# menampilkan hasil\n",
        "print(\"status:\", model.status)\n",
        "print(\"nilai x =\", x.varValue)\n",
        "print(\"nilai y =\", y.varValue)"
      ],
      "metadata": {
        "colab": {
          "base_uri": "https://localhost:8080/",
          "height": 245
        },
        "id": "K6vxjEj_YddI",
        "outputId": "af9a1a04-4c8f-42be-871a-57aa278b18ef"
      },
      "execution_count": 78,
      "outputs": [
        {
          "output_type": "error",
          "ename": "NameError",
          "evalue": "ignored",
          "traceback": [
            "\u001b[0;31m---------------------------------------------------------------------------\u001b[0m",
            "\u001b[0;31mNameError\u001b[0m                                 Traceback (most recent call last)",
            "\u001b[0;32m<ipython-input-78-5570e0e281e1>\u001b[0m in \u001b[0;36m<cell line: 6>\u001b[0;34m()\u001b[0m\n\u001b[1;32m      4\u001b[0m \u001b[0;34m\u001b[0m\u001b[0m\n\u001b[1;32m      5\u001b[0m \u001b[0;31m# membuat objek masalah optimasi\u001b[0m\u001b[0;34m\u001b[0m\u001b[0;34m\u001b[0m\u001b[0m\n\u001b[0;32m----> 6\u001b[0;31m \u001b[0mmodel\u001b[0m \u001b[0;34m=\u001b[0m \u001b[0mpulp\u001b[0m\u001b[0;34m.\u001b[0m\u001b[0mLpProblem\u001b[0m\u001b[0;34m(\u001b[0m\u001b[0mname\u001b[0m\u001b[0;34m=\u001b[0m\u001b[0;34m\"Pemecahan_Persamaan\"\u001b[0m\u001b[0;34m,\u001b[0m \u001b[0msense\u001b[0m\u001b[0;34m=\u001b[0m\u001b[0mLpMinimize\u001b[0m\u001b[0;34m)\u001b[0m\u001b[0;34m\u001b[0m\u001b[0;34m\u001b[0m\u001b[0m\n\u001b[0m\u001b[1;32m      7\u001b[0m \u001b[0;34m\u001b[0m\u001b[0m\n\u001b[1;32m      8\u001b[0m \u001b[0;31m# membuat variable x dan y\u001b[0m\u001b[0;34m\u001b[0m\u001b[0;34m\u001b[0m\u001b[0m\n",
            "\u001b[0;31mNameError\u001b[0m: name 'LpMinimize' is not defined"
          ]
        }
      ]
    },
    {
      "cell_type": "code",
      "source": [
        "from pulp.pulp import LpVariable\n",
        "# 5x + y = 37\n",
        "import pulp\n",
        "\n",
        "# membuat objek masalah optimasi\n",
        "model = pulp.LpProblem(name=\"Pemecahan_Persamaan\", sense=LpMinimize)\n",
        "\n",
        "# membuat variable x dan y\n",
        "x = LpVariable(name=\"x\")\n",
        "y = LpVariable(name=\"y\")\n",
        "\n",
        "# menambahkan batasan\n",
        "model += 5 * x + y == 37\n",
        "\n",
        "# menyelesaikan masalah\n",
        "model.solve()\n",
        "\n",
        "# menampilkan hasil\n",
        "print(\"status:\", model.status)\n",
        "print(\"nilai x =\", x.varValue)\n",
        "print(\"nilai y =\", y.varValue)"
      ],
      "metadata": {
        "colab": {
          "base_uri": "https://localhost:8080/",
          "height": 245
        },
        "id": "Wq_ncCB-fFKN",
        "outputId": "10d670c1-3b0c-4d6c-d392-854b675ebec6"
      },
      "execution_count": 79,
      "outputs": [
        {
          "output_type": "error",
          "ename": "NameError",
          "evalue": "ignored",
          "traceback": [
            "\u001b[0;31m---------------------------------------------------------------------------\u001b[0m",
            "\u001b[0;31mNameError\u001b[0m                                 Traceback (most recent call last)",
            "\u001b[0;32m<ipython-input-79-4e1ebfb9943b>\u001b[0m in \u001b[0;36m<cell line: 6>\u001b[0;34m()\u001b[0m\n\u001b[1;32m      4\u001b[0m \u001b[0;34m\u001b[0m\u001b[0m\n\u001b[1;32m      5\u001b[0m \u001b[0;31m# membuat objek masalah optimasi\u001b[0m\u001b[0;34m\u001b[0m\u001b[0;34m\u001b[0m\u001b[0m\n\u001b[0;32m----> 6\u001b[0;31m \u001b[0mmodel\u001b[0m \u001b[0;34m=\u001b[0m \u001b[0mpulp\u001b[0m\u001b[0;34m.\u001b[0m\u001b[0mLpProblem\u001b[0m\u001b[0;34m(\u001b[0m\u001b[0mname\u001b[0m\u001b[0;34m=\u001b[0m\u001b[0;34m\"Pemecahan_Persamaan\"\u001b[0m\u001b[0;34m,\u001b[0m \u001b[0msense\u001b[0m\u001b[0;34m=\u001b[0m\u001b[0mLpMinimize\u001b[0m\u001b[0;34m)\u001b[0m\u001b[0;34m\u001b[0m\u001b[0;34m\u001b[0m\u001b[0m\n\u001b[0m\u001b[1;32m      7\u001b[0m \u001b[0;34m\u001b[0m\u001b[0m\n\u001b[1;32m      8\u001b[0m \u001b[0;31m# membuat variable x dan y\u001b[0m\u001b[0;34m\u001b[0m\u001b[0;34m\u001b[0m\u001b[0m\n",
            "\u001b[0;31mNameError\u001b[0m: name 'LpMinimize' is not defined"
          ]
        }
      ]
    },
    {
      "cell_type": "code",
      "source": [
        "# latihan soal cerita 1\n",
        "\n",
        "#3Pensil dan 4 buku = 11000\n",
        "#1pensil dan 7 buku = 15000\n",
        "\n",
        "import pulp\n",
        "\n",
        "#Instantiate our problem class\n",
        "model = pulp.LpProblem(\"ProfitMaximisingProblem\", pulp.LpMaximize)\n",
        "R = pulp.LpVariable('R', lowBound=0, cat='Integer')\n",
        "J = pulp.LpVariable('J', lowBound=0, cat='Integer')\n",
        "\n",
        "#Objective function\n",
        "model += 2*R+6*J, \"Profit\"\n",
        "#Constraints\n",
        "model += 3*R+4*J <= 11000\n",
        "model += 1*R+7*J <= 15000\n",
        "\n",
        "#Solve Our Problem\n",
        "model.solve()\n",
        "pulp.LpStatus[model.status]\n",
        "\n",
        "print (R.varValue)\n",
        "print (J.varValue)\n",
        "print (pulp.value(model.objective))"
      ],
      "metadata": {
        "id": "kLAw9fXlpP8q",
        "colab": {
          "base_uri": "https://localhost:8080/"
        },
        "outputId": "5e50f754-84c9-4656-d8ab-81285e99772b"
      },
      "execution_count": 64,
      "outputs": [
        {
          "output_type": "stream",
          "name": "stdout",
          "text": [
            "1000.0\n",
            "2000.0\n",
            "14000.0\n"
          ]
        }
      ]
    },
    {
      "cell_type": "code",
      "source": [
        "# latihan soal cerita 2\n",
        "\n",
        "import pulp\n",
        "\n",
        "#Instantiate our problem class\n",
        "model = pulp.LpProblem(\"ProfitMaximisingProblem\", pulp.LpMaximize)\n",
        "P = pulp.LpVariable('P')\n",
        "L = pulp.LpVariable('L')\n",
        "\n",
        "#Objective function\n",
        "# model += 2*P+2*L, \"Profit\"\n",
        "#Constraints\n",
        "model += 2*P+2*L <= 44\n",
        "model += P-6 == L\n",
        "\n",
        "#Solve Our Problem\n",
        "model.solve()\n",
        "pulp.LpStatus[model.status]\n",
        "\n",
        "print (P.varValue)\n",
        "print (L.varValue)\n",
        "# print (pulp.value(model.objective))"
      ],
      "metadata": {
        "id": "hL48cPjSpx3B",
        "colab": {
          "base_uri": "https://localhost:8080/"
        },
        "outputId": "da7ade9a-27a1-44f9-803f-a7f7e42febe8"
      },
      "execution_count": 65,
      "outputs": [
        {
          "output_type": "stream",
          "name": "stdout",
          "text": [
            "14.0\n",
            "8.0\n"
          ]
        }
      ]
    },
    {
      "cell_type": "code",
      "source": [
        "# import required libraries\n",
        "import numpy as np\n",
        "from scipy.optimize import linprog"
      ],
      "metadata": {
        "id": "hsy94kE8fxY1"
      },
      "execution_count": 66,
      "outputs": []
    },
    {
      "cell_type": "code",
      "source": [
        "# set the inequality constraints matrix\n",
        "# note: the inequality constraits must be in the form of <=\n",
        "A = np.array([[1, 0], [2,3], [1, 1], [-1, 0], [0, -1]])"
      ],
      "metadata": {
        "id": "9mRlbSHQf_Xk"
      },
      "execution_count": 67,
      "outputs": []
    },
    {
      "cell_type": "code",
      "source": [
        "# set the inequality constraints vector\n",
        "b = np.array([16, 19, 8, 0, 0])"
      ],
      "metadata": {
        "id": "udtp8x51gYa8"
      },
      "execution_count": 68,
      "outputs": []
    },
    {
      "cell_type": "code",
      "source": [
        "# set the coefficients of the linear objective function vector\n",
        "# note: when maximizing, change the sighs of the c vector coefficient\n",
        "c = np.array([-5, -7])"
      ],
      "metadata": {
        "id": "npNK11VFgjPD"
      },
      "execution_count": 69,
      "outputs": []
    },
    {
      "cell_type": "code",
      "source": [
        "# solve linear programming problem\n",
        "res = linprog(c, A_ub=A, b_ub=b)"
      ],
      "metadata": {
        "id": "Gl8YB0tyjfZk"
      },
      "execution_count": 70,
      "outputs": []
    },
    {
      "cell_type": "code",
      "source": [
        "# print results\n",
        "print('Optimal value:', round(res.fun*-1, ndigits=2),\n",
        "      '\\nx value:', res.x,\n",
        "      '\\nNumber of iterations performed:', res.nit,\n",
        "      '\\nStatus:', res.message)"
      ],
      "metadata": {
        "id": "sKtK-_HTjx5S",
        "colab": {
          "base_uri": "https://localhost:8080/"
        },
        "outputId": "2bcb5760-2e80-46dd-b551-83fc504772da"
      },
      "execution_count": 71,
      "outputs": [
        {
          "output_type": "stream",
          "name": "stdout",
          "text": [
            "Optimal value: 46.0 \n",
            "x value: [5. 3.] \n",
            "Number of iterations performed: 3 \n",
            "Status: Optimization terminated successfully. (HiGHS Status 7: Optimal)\n"
          ]
        }
      ]
    },
    {
      "cell_type": "code",
      "source": [
        "#1.Import modul yang diperlukan dari sciPy:\n",
        "from scipy.optimize import linprog\n",
        "\n",
        "# 2. tentuka koefisien fungsi tujuan dan matrix batasan:\n",
        "\n",
        "# koefisien fungsi tujuan (z = 5x1 + 7x2)\n",
        "c = [-5, -7] #karena kita ingin \"maksimalkan\"  -5x1 - 7x2, maka perlu diuban menjadi \"-5 dan '-7\"\n",
        "\n",
        "# koefisien matriks batasan\n",
        "A = [\n",
        "    [1,0], #1x1 + 0x2 <= 16\n",
        "    [2,3], #2x2 + 3x2 <= 19\n",
        "    [1,1] #1x1 + 1x2 <=8\n",
        "]\n",
        "\n",
        "# batasan kanan (rhs) dari masing-masing batasan\n",
        "b = [16, 19, 8]\n",
        "\n",
        "# 3. tentukan batasan variabel x1 dan x2 sebagai variabel non-negatif:\n",
        "\n",
        "x1_bounds = (0, None) # x1 >= 0\n",
        "x2_bounds = (0, None) # x2 >= 0\n"
      ],
      "metadata": {
        "id": "NtUFU8ZJkPq7"
      },
      "execution_count": 72,
      "outputs": []
    },
    {
      "cell_type": "code",
      "source": [
        "# 4. gunakan linprog untuk menyelesaikan masalah pemrogaman linier:\n",
        "\n",
        "result = linprog(c, A_ub=A, b_ub=b, bounds=[x1_bounds, x2_bounds], method=\"highs\")\n",
        "\n",
        "# 5. tampilkan hasilnya:\n",
        "\n",
        "# hasil optimasi\n",
        "print(\"optimal solution:\")\n",
        "print(\"x1 =\", result.x[0])\n",
        "print(\"x2 =\", result.x[1])\n",
        "print(\"Max Z =\", -result.fun) #karena tujuannya adalah memaksimalkan -z"
      ],
      "metadata": {
        "id": "N2bAGW8xmdth",
        "colab": {
          "base_uri": "https://localhost:8080/"
        },
        "outputId": "e60d3df9-9730-427f-cf0f-d9aef768024c"
      },
      "execution_count": 73,
      "outputs": [
        {
          "output_type": "stream",
          "name": "stdout",
          "text": [
            "optimal solution:\n",
            "x1 = 5.0\n",
            "x2 = 3.0\n",
            "Max Z = 46.0\n"
          ]
        }
      ]
    }
  ]
}