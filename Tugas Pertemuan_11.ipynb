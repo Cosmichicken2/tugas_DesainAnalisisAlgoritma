{
  "nbformat": 4,
  "nbformat_minor": 0,
  "metadata": {
    "colab": {
      "provenance": [],
      "authorship_tag": "ABX9TyONZHfWmgW2FUD8Jv3s+0pb",
      "include_colab_link": true
    },
    "kernelspec": {
      "name": "python3",
      "display_name": "Python 3"
    },
    "language_info": {
      "name": "python"
    }
  },
  "cells": [
    {
      "cell_type": "markdown",
      "metadata": {
        "id": "view-in-github",
        "colab_type": "text"
      },
      "source": [
        "<a href=\"https://colab.research.google.com/github/Haykalilys/tugas_DesainAnalisisAlgoritma/blob/master/Tugas%20Pertemuan_11.ipynb\" target=\"_parent\"><img src=\"https://colab.research.google.com/assets/colab-badge.svg\" alt=\"Open In Colab\"/></a>"
      ]
    },
    {
      "cell_type": "code",
      "execution_count": 40,
      "metadata": {
        "id": "PI4VlXl4XQjS"
      },
      "outputs": [],
      "source": [
        "# a-------b\n",
        "# /       /\n",
        "# /       /\n",
        "# a-------b--------e"
      ]
    },
    {
      "cell_type": "code",
      "source": [
        "# create the dictionary with graph elements\n",
        "graph = { \"a\" : [\"b\", \"c\"],\n",
        "        \"b\" : [\"a\", \"d\"],\n",
        "        \"c\" : [\"a\", \"d\"],\n",
        "        \"d\" : [\"e\"],\n",
        "        \"e\" : [\"d\"]}\n",
        "\n",
        "# print the graph\n",
        "print(graph)"
      ],
      "metadata": {
        "colab": {
          "base_uri": "https://localhost:8080/"
        },
        "id": "zoFIYG3mYyvR",
        "outputId": "1dd82e36-7e75-467a-e038-5b67d6ba409f"
      },
      "execution_count": 41,
      "outputs": [
        {
          "output_type": "stream",
          "name": "stdout",
          "text": [
            "{'a': ['b', 'c'], 'b': ['a', 'd'], 'c': ['a', 'd'], 'd': ['e'], 'e': ['d']}\n"
          ]
        }
      ]
    },
    {
      "cell_type": "code",
      "source": [
        "# T-------U--------V\n",
        "# /                /\n",
        "# W----------------x\n",
        "# /                /\n",
        "# Z                s"
      ],
      "metadata": {
        "id": "ddG7ShrKZ2Co"
      },
      "execution_count": 42,
      "outputs": []
    },
    {
      "cell_type": "code",
      "source": [
        "# create the dictionary with graph elements\n",
        "graph = { \"T\" : [\"U\", \"W\"],\n",
        "        \"U\" : [\"T\", \"V\"],\n",
        "        \"V\" : [\"U\", \"x\"],\n",
        "        \"W\" : [\"T\", \"x\", \"Z\"],\n",
        "        \"x\" : [\"V\", \"W\", \"s\"],\n",
        "        \"Z\" : [\"W\"],\n",
        "        \"s\" : [\"x\"]}\n",
        "\n",
        "# print the graph\n",
        "print(graph)"
      ],
      "metadata": {
        "colab": {
          "base_uri": "https://localhost:8080/"
        },
        "id": "_WQt4TcZaFE4",
        "outputId": "017cec4f-9e54-436d-ae49-7e2963160454"
      },
      "execution_count": 43,
      "outputs": [
        {
          "output_type": "stream",
          "name": "stdout",
          "text": [
            "{'T': ['U', 'W'], 'U': ['T', 'V'], 'V': ['U', 'x'], 'W': ['T', 'x', 'Z'], 'x': ['V', 'W', 's'], 'Z': ['W'], 's': ['x']}\n"
          ]
        }
      ]
    },
    {
      "cell_type": "code",
      "source": [
        "# r-------o--------m\n",
        "# /       /        /\n",
        "# i-------p--------n"
      ],
      "metadata": {
        "id": "Wc_4qKImdOWp"
      },
      "execution_count": 44,
      "outputs": []
    },
    {
      "cell_type": "code",
      "source": [
        "# create the dictionary with graph elements\n",
        "graph = { \"r\" : [\"o\", \"i\"],\n",
        "        \"o\" : [\"r\", \"m\", \"p\"],\n",
        "        \"m\" : [\"o\", \"n\"],\n",
        "        \"i\" : [\"r\", \"p\"],\n",
        "        \"p\" : [\"i\", \"o\", \"n\"],\n",
        "        \"n\" : [\"p\", \"m\"]}\n",
        "\n",
        "# print the graph\n",
        "print(graph)"
      ],
      "metadata": {
        "colab": {
          "base_uri": "https://localhost:8080/"
        },
        "id": "7P9GKdBqdcOZ",
        "outputId": "8a7e1428-3ddb-4358-977e-58f7ddd59cac"
      },
      "execution_count": 45,
      "outputs": [
        {
          "output_type": "stream",
          "name": "stdout",
          "text": [
            "{'r': ['o', 'i'], 'o': ['r', 'm', 'p'], 'm': ['o', 'n'], 'i': ['r', 'p'], 'p': ['i', 'o', 'n'], 'n': ['p', 'm']}\n"
          ]
        }
      ]
    },
    {
      "cell_type": "code",
      "source": [
        "# menampilkan simpul pada graph a,b,c\n",
        "class Graph:\n",
        "  def __init__(self, gdict=None):\n",
        "    if gdict is None:\n",
        "      gdict = {}\n",
        "    self.gdict =gdict\n",
        "\n",
        "  # get the keys of the dictionary\n",
        "  def getVertices(self):\n",
        "    return list(self.gdict.keys())\n",
        "\n",
        "# create dictionary with graph elements\n",
        "graph_elements = {\n",
        "        \"a\" : [\"b\", \"c\"],\n",
        "        \"b\" : [\"a\", \"d\"],\n",
        "        \"c\" : [\"a\", \"d\"],\n",
        "        \"d\" : [\"e\"],\n",
        "        \"e\" : [\"d\"]\n",
        "}\n",
        "\n",
        "# create an instance of the graph class and pass the graph_element\n",
        "g = Graph(graph_elements)\n",
        "\n",
        "# print the vertices by calling the getvertices method with parentheses\n",
        "print(g.getVertices())"
      ],
      "metadata": {
        "colab": {
          "base_uri": "https://localhost:8080/"
        },
        "id": "eG89BYOrecYJ",
        "outputId": "41db3fab-d753-4f12-d504-67758206ffd9"
      },
      "execution_count": 46,
      "outputs": [
        {
          "output_type": "stream",
          "name": "stdout",
          "text": [
            "['a', 'b', 'c', 'd', 'e']\n"
          ]
        }
      ]
    },
    {
      "cell_type": "code",
      "source": [
        "# menampilkan simpul pada graph T, U, V\n",
        "class Graph:\n",
        "  def __init__(self, gdict=None):\n",
        "    if gdict is None:\n",
        "      gdict = {}\n",
        "    self.gdict =gdict\n",
        "\n",
        "  # get the keys of the dictionary\n",
        "  def getVertices(self):\n",
        "    return list(self.gdict.keys())\n",
        "\n",
        "# create dictionary with graph elements\n",
        "graph_elements = {\n",
        "        \"T\" : [\"U\", \"W\"],\n",
        "        \"U\" : [\"T\", \"V\"],\n",
        "        \"V\" : [\"U\", \"x\"],\n",
        "        \"W\" : [\"T\", \"x\", \"Z\"],\n",
        "        \"x\" : [\"V\", \"W\", \"s\"],\n",
        "        \"Z\" : [\"W\"],\n",
        "        \"s\" : [\"x\"]\n",
        "}\n",
        "\n",
        "# create an instance of the graph class and pass the graph_element\n",
        "g = Graph(graph_elements)\n",
        "\n",
        "# print the vertices by calling the getvertices method with parentheses\n",
        "print(g.getVertices())"
      ],
      "metadata": {
        "colab": {
          "base_uri": "https://localhost:8080/"
        },
        "id": "95a6csGGiRvq",
        "outputId": "a3beaaf4-6a67-4952-8b7d-28fc9dc9edfc"
      },
      "execution_count": 47,
      "outputs": [
        {
          "output_type": "stream",
          "name": "stdout",
          "text": [
            "['T', 'U', 'V', 'W', 'x', 'Z', 's']\n"
          ]
        }
      ]
    },
    {
      "cell_type": "code",
      "source": [
        "# menampilkan simpul pada graph r, o, m\n",
        "class Graph:\n",
        "  def __init__(self, gdict=None):\n",
        "    if gdict is None:\n",
        "      gdict = {}\n",
        "    self.gdict =gdict\n",
        "\n",
        "  # get the keys of the dictionary\n",
        "  def getVertices(self):\n",
        "    return list(self.gdict.keys())\n",
        "\n",
        "# create dictionary with graph elements\n",
        "graph_elements = {\n",
        "        \"r\" : [\"o\", \"i\"],\n",
        "        \"o\" : [\"r\", \"m\", \"p\"],\n",
        "        \"m\" : [\"o\", \"n\"],\n",
        "        \"i\" : [\"r\", \"p\"],\n",
        "        \"p\" : [\"i\", \"o\", \"n\"],\n",
        "        \"n\" : [\"p\", \"m\"]\n",
        "}\n",
        "\n",
        "# create an instance of the graph class and pass the graph_element\n",
        "g = Graph(graph_elements)\n",
        "\n",
        "# print the vertices by calling the getvertices method with parentheses\n",
        "print(g.getVertices())"
      ],
      "metadata": {
        "colab": {
          "base_uri": "https://localhost:8080/"
        },
        "id": "DSO6HxkkiSYq",
        "outputId": "e65b3072-b53c-4abd-b60e-3f43a2c9c0ac"
      },
      "execution_count": 48,
      "outputs": [
        {
          "output_type": "stream",
          "name": "stdout",
          "text": [
            "['r', 'o', 'm', 'i', 'p', 'n']\n"
          ]
        }
      ]
    },
    {
      "cell_type": "code",
      "source": [
        "# menampilkan sudut pada graph\n",
        "class graph:\n",
        "  def __init__(self, gdict=None):\n",
        "    if gdict is None:\n",
        "      gdict = {}\n",
        "    self.gdict = gdict\n",
        "\n",
        "  def edges(self):\n",
        "      return self.findedges()\n",
        "\n",
        "  # find the distinct list of edges\n",
        "  def findedges(self):\n",
        "    edgename = []\n",
        "    for vrtx in self.gdict:\n",
        "      for nxtvrtx in self.gdict[vrtx]:\n",
        "        if {nxtvrtx, vrtx} not in edgename:\n",
        "          edgename.append({vrtx, nxtvrtx})\n",
        "    return edgename\n",
        "\n",
        "\n",
        "# create dictionary with graph elements\n",
        "graph_elements = {\n",
        "        \"a\" : [\"b\", \"c\"],\n",
        "        \"b\" : [\"a\", \"d\"],\n",
        "        \"c\" : [\"a\", \"d\"],\n",
        "        \"d\" : [\"e\"],\n",
        "        \"e\" : [\"d\"]\n",
        "}\n",
        "\n",
        "# create an instance of the graph class and pass the graph_element\n",
        "g = graph(graph_elements)\n",
        "\n",
        "# print the vertices by calling the getvertices method with parentheses\n",
        "print(g.edges())"
      ],
      "metadata": {
        "colab": {
          "base_uri": "https://localhost:8080/"
        },
        "id": "Z0ayZmgGi9hL",
        "outputId": "22121291-cacb-450a-f633-9457596b47ce"
      },
      "execution_count": 49,
      "outputs": [
        {
          "output_type": "stream",
          "name": "stdout",
          "text": [
            "[{'a', 'b'}, {'a', 'c'}, {'d', 'b'}, {'d', 'c'}, {'d', 'e'}]\n"
          ]
        }
      ]
    },
    {
      "cell_type": "code",
      "source": [
        "# menampilkan sudut pada graph T, U, V\n",
        "class graph:\n",
        "  def __init__(self, gdict=None):\n",
        "    if gdict is None:\n",
        "      gdict = {}\n",
        "    self.gdict = gdict\n",
        "\n",
        "  def edges(self):\n",
        "      return self.findedges()\n",
        "\n",
        "  # find the distinct list of edges\n",
        "  def findedges(self):\n",
        "    edgename = []\n",
        "    for vrtx in self.gdict:\n",
        "      for nxtvrtx in self.gdict[vrtx]:\n",
        "        if {nxtvrtx, vrtx} not in edgename:\n",
        "          edgename.append({vrtx, nxtvrtx})\n",
        "    return edgename\n",
        "\n",
        "\n",
        "# create dictionary with graph elements\n",
        "graph_elements = {\n",
        "        \"T\" : [\"U\", \"W\"],\n",
        "        \"U\" : [\"T\", \"V\"],\n",
        "        \"V\" : [\"U\", \"x\"],\n",
        "        \"W\" : [\"T\", \"x\", \"Z\"],\n",
        "        \"x\" : [\"V\", \"W\", \"s\"],\n",
        "        \"Z\" : [\"W\"],\n",
        "        \"s\" : [\"x\"]\n",
        "}\n",
        "\n",
        "# create an instance of the graph class and pass the graph_element\n",
        "g = graph(graph_elements)\n",
        "\n",
        "# print the vertices by calling the getvertices method with parentheses\n",
        "print(g.edges())"
      ],
      "metadata": {
        "colab": {
          "base_uri": "https://localhost:8080/"
        },
        "id": "zihWyDe5mvN8",
        "outputId": "b5c18ce0-c804-4a60-f63d-fac38074c8fb"
      },
      "execution_count": 50,
      "outputs": [
        {
          "output_type": "stream",
          "name": "stdout",
          "text": [
            "[{'U', 'T'}, {'W', 'T'}, {'U', 'V'}, {'V', 'x'}, {'W', 'x'}, {'Z', 'W'}, {'x', 's'}]\n"
          ]
        }
      ]
    },
    {
      "cell_type": "code",
      "source": [
        "# menampilkan sudut pada graph r, o, m\n",
        "class graph:\n",
        "  def __init__(self, gdict=None):\n",
        "    if gdict is None:\n",
        "      gdict = {}\n",
        "    self.gdict = gdict\n",
        "\n",
        "  def edges(self):\n",
        "      return self.findedges()\n",
        "\n",
        "  # find the distinct list of edges\n",
        "  def findedges(self):\n",
        "    edgename = []\n",
        "    for vrtx in self.gdict:\n",
        "      for nxtvrtx in self.gdict[vrtx]:\n",
        "        if {nxtvrtx, vrtx} not in edgename:\n",
        "          edgename.append({vrtx, nxtvrtx})\n",
        "    return edgename\n",
        "\n",
        "\n",
        "# create dictionary with graph elements\n",
        "graph_elements = {\n",
        "        \"r\" : [\"o\", \"i\"],\n",
        "        \"o\" : [\"r\", \"m\", \"p\"],\n",
        "        \"m\" : [\"o\", \"n\"],\n",
        "        \"i\" : [\"r\", \"p\"],\n",
        "        \"p\" : [\"i\", \"o\", \"n\"],\n",
        "        \"n\" : [\"p\", \"m\"]\n",
        "}\n",
        "\n",
        "# create an instance of the graph class and pass the graph_element\n",
        "g = graph(graph_elements)\n",
        "\n",
        "# print the vertices by calling the getvertices method with parentheses\n",
        "print(g.edges())"
      ],
      "metadata": {
        "colab": {
          "base_uri": "https://localhost:8080/"
        },
        "id": "jo6r2p8QnCeD",
        "outputId": "990d5be2-95b3-4dc1-ec4c-91f2777c61a2"
      },
      "execution_count": 51,
      "outputs": [
        {
          "output_type": "stream",
          "name": "stdout",
          "text": [
            "[{'o', 'r'}, {'i', 'r'}, {'o', 'm'}, {'o', 'p'}, {'m', 'n'}, {'i', 'p'}, {'p', 'n'}]\n"
          ]
        }
      ]
    },
    {
      "cell_type": "code",
      "source": [
        "# menambahkan vertex/simpul\n",
        "class graph:\n",
        "  def __init__(self, gdict=None):\n",
        "    if gdict is None:\n",
        "      gdict = {}\n",
        "    self.gdict = gdict\n",
        "\n",
        "  def getVertices(self):\n",
        "      return list(self.gdict.keys())\n",
        "\n",
        "  # add the vertex as a key\n",
        "  def addVertex(self, vrtx):\n",
        "      if vrtx not in self.gdict:\n",
        "        self.gdict[vrtx] = []\n",
        "\n",
        "\n",
        "# create dictionary with graph elements\n",
        "graph_elements = {\n",
        "        \"a\" : [\"b\", \"c\"],\n",
        "        \"b\" : [\"a\", \"d\"],\n",
        "        \"c\" : [\"a\", \"d\"],\n",
        "        \"d\" : [\"e\"],\n",
        "        \"e\" : [\"d\"]\n",
        "}\n",
        "\n",
        "g = graph(graph_elements)\n",
        "\n",
        "g.addVertex(\"f\")\n",
        "\n",
        "print(g.getVertices())"
      ],
      "metadata": {
        "colab": {
          "base_uri": "https://localhost:8080/"
        },
        "id": "3FAgz-SUnn_U",
        "outputId": "eb22c86a-c688-4192-b57d-f4fcf1ec3eeb"
      },
      "execution_count": 52,
      "outputs": [
        {
          "output_type": "stream",
          "name": "stdout",
          "text": [
            "['a', 'b', 'c', 'd', 'e', 'f']\n"
          ]
        }
      ]
    },
    {
      "cell_type": "code",
      "source": [
        "# menambahkan vertex/simpul f pada T,U,V\n",
        "class graph:\n",
        "  def __init__(self, gdict=None):\n",
        "    if gdict is None:\n",
        "      gdict = {}\n",
        "    self.gdict = gdict\n",
        "\n",
        "  def getVertices(self):\n",
        "      return list(self.gdict.keys())\n",
        "\n",
        "  # add the vertex as a key\n",
        "  def addVertex(self, vrtx):\n",
        "      if vrtx not in self.gdict:\n",
        "        self.gdict[vrtx] = []\n",
        "\n",
        "\n",
        "# create dictionary with graph elements\n",
        "graph_elements = {\n",
        "        \"T\" : [\"U\", \"W\"],\n",
        "        \"U\" : [\"T\", \"V\"],\n",
        "        \"V\" : [\"U\", \"x\"],\n",
        "        \"W\" : [\"T\", \"x\", \"Z\"],\n",
        "        \"x\" : [\"V\", \"W\", \"s\"],\n",
        "        \"Z\" : [\"W\"],\n",
        "        \"s\" : [\"x\"]\n",
        "}\n",
        "\n",
        "g = graph(graph_elements)\n",
        "\n",
        "g.addVertex(\"f\")\n",
        "\n",
        "print(g.getVertices())"
      ],
      "metadata": {
        "colab": {
          "base_uri": "https://localhost:8080/"
        },
        "id": "Sr2soCgSo191",
        "outputId": "7058c143-70af-4596-a4d4-8d9b7d5653cb"
      },
      "execution_count": 53,
      "outputs": [
        {
          "output_type": "stream",
          "name": "stdout",
          "text": [
            "['T', 'U', 'V', 'W', 'x', 'Z', 's', 'f']\n"
          ]
        }
      ]
    },
    {
      "cell_type": "code",
      "source": [
        "# menambahkan vertex/simpul f pada r, o, m\n",
        "class graph:\n",
        "  def __init__(self, gdict=None):\n",
        "    if gdict is None:\n",
        "      gdict = {}\n",
        "    self.gdict = gdict\n",
        "\n",
        "  def getVertices(self):\n",
        "      return list(self.gdict.keys())\n",
        "\n",
        "  # add the vertex as a key\n",
        "  def addVertex(self, vrtx):\n",
        "      if vrtx not in self.gdict:\n",
        "        self.gdict[vrtx] = []\n",
        "\n",
        "\n",
        "# create dictionary with graph elements\n",
        "graph_elements = {\n",
        "        \"r\" : [\"o\", \"i\"],\n",
        "        \"o\" : [\"r\", \"m\", \"p\"],\n",
        "        \"m\" : [\"o\", \"n\"],\n",
        "        \"i\" : [\"r\", \"p\"],\n",
        "        \"p\" : [\"i\", \"o\", \"n\"],\n",
        "        \"n\" : [\"p\", \"m\"]\n",
        "}\n",
        "\n",
        "g = graph(graph_elements)\n",
        "\n",
        "g.addVertex(\"f\")\n",
        "\n",
        "print(g.getVertices())"
      ],
      "metadata": {
        "colab": {
          "base_uri": "https://localhost:8080/"
        },
        "id": "g8xST2lmo9Y0",
        "outputId": "78192f19-11dc-46d1-be8a-709adec7add2"
      },
      "execution_count": 54,
      "outputs": [
        {
          "output_type": "stream",
          "name": "stdout",
          "text": [
            "['r', 'o', 'm', 'i', 'p', 'n', 'f']\n"
          ]
        }
      ]
    },
    {
      "cell_type": "code",
      "source": [
        "# menambahkan edge/sudut\n",
        "\n",
        "class graph:\n",
        "\n",
        "  def __init__(self, gdict = None):\n",
        "    if gdict is None:\n",
        "      gdict = {}\n",
        "    self.gdict = gdict\n",
        "\n",
        "  def edges(self):\n",
        "    return self.findedges()\n",
        "\n",
        "  # add the new edge\n",
        "  def AddEdge(self, edge):\n",
        "    edge = set(edge)\n",
        "    (vrtx1, vrtx2) = tuple(edge)\n",
        "    if vrtx1 in self.gdict:\n",
        "      self.gdict[vrtx1].append(vrtx2)\n",
        "    else:\n",
        "      self.gdict[vrtx1] + [vrtx2]\n",
        "\n",
        "\n",
        "  # list the edge names\n",
        "  def findedges(self):\n",
        "    edgename = []\n",
        "    for vrtx in self.gdict:\n",
        "      for nxtvrtx in self.gdict[vrtx]:\n",
        "        if {nxtvrtx, vrtx} not in edgename:\n",
        "          edgename.append({vrtx, nxtvrtx})\n",
        "    return edgename"
      ],
      "metadata": {
        "id": "Gjyo_eeepO5t"
      },
      "execution_count": 55,
      "outputs": []
    },
    {
      "cell_type": "code",
      "source": [
        "# create the dictionaty with graph elements\n",
        "graph_elements = {\n",
        "        \"a\" : [\"b\", \"c\"],\n",
        "        \"b\" : [\"a\", \"d\"],\n",
        "        \"c\" : [\"a\", \"d\"],\n",
        "        \"d\" : [\"e\"],\n",
        "        \"e\" : [\"d\"]\n",
        "}\n",
        "\n",
        "g = graph(graph_elements)\n",
        "g.AddEdge({'a','e'})\n",
        "g.AddEdge({'a','c'})\n",
        "print(g.edges())"
      ],
      "metadata": {
        "colab": {
          "base_uri": "https://localhost:8080/"
        },
        "id": "h8VkYZ4HqzoU",
        "outputId": "f48f1d65-fdc8-41f3-db40-667b3bc880f2"
      },
      "execution_count": 56,
      "outputs": [
        {
          "output_type": "stream",
          "name": "stdout",
          "text": [
            "[{'a', 'b'}, {'a', 'c'}, {'a', 'e'}, {'d', 'b'}, {'d', 'c'}, {'d', 'e'}]\n"
          ]
        }
      ]
    },
    {
      "cell_type": "code",
      "source": [
        "# create the dictionaty with graph elements T, U, V\n",
        "graph_elements = {\n",
        "        \"T\" : [\"U\", \"W\"],\n",
        "        \"U\" : [\"T\", \"V\"],\n",
        "        \"V\" : [\"U\", \"x\"],\n",
        "        \"W\" : [\"T\", \"x\", \"Z\"],\n",
        "        \"x\" : [\"V\", \"W\", \"s\"],\n",
        "        \"Z\" : [\"W\"],\n",
        "        \"s\" : [\"x\"]\n",
        "}\n",
        "\n",
        "g = graph(graph_elements)\n",
        "g.AddEdge({'T','W'})\n",
        "g.AddEdge({'T','x'})\n",
        "print(g.edges())"
      ],
      "metadata": {
        "colab": {
          "base_uri": "https://localhost:8080/"
        },
        "id": "YmYOoRjdsA5l",
        "outputId": "101f68c1-9b85-450a-f3d6-a2ef573fa054"
      },
      "execution_count": 57,
      "outputs": [
        {
          "output_type": "stream",
          "name": "stdout",
          "text": [
            "[{'U', 'T'}, {'W', 'T'}, {'U', 'V'}, {'V', 'x'}, {'W', 'x'}, {'Z', 'W'}, {'x', 's'}, {'x', 'T'}]\n"
          ]
        }
      ]
    },
    {
      "cell_type": "code",
      "source": [
        "# create the dictionaty with graph elements r, o, m\n",
        "graph_elements = {\n",
        "        \"r\" : [\"o\", \"i\"],\n",
        "        \"o\" : [\"r\", \"m\", \"p\"],\n",
        "        \"m\" : [\"o\", \"n\"],\n",
        "        \"i\" : [\"r\", \"p\"],\n",
        "        \"p\" : [\"i\", \"o\", \"n\"],\n",
        "        \"n\" : [\"p\", \"m\"]\n",
        "}\n",
        "\n",
        "g = graph(graph_elements)\n",
        "g.AddEdge({'r','m'})\n",
        "g.AddEdge({'r','p'})\n",
        "print(g.edges())"
      ],
      "metadata": {
        "colab": {
          "base_uri": "https://localhost:8080/"
        },
        "id": "4Jwilcj0w6oO",
        "outputId": "09debacf-c330-44e8-c9f7-9ad3ac663234"
      },
      "execution_count": 58,
      "outputs": [
        {
          "output_type": "stream",
          "name": "stdout",
          "text": [
            "[{'o', 'r'}, {'i', 'r'}, {'o', 'm'}, {'o', 'p'}, {'m', 'n'}, {'m', 'r'}, {'i', 'p'}, {'p', 'n'}, {'p', 'r'}]\n"
          ]
        }
      ]
    }
  ]
}