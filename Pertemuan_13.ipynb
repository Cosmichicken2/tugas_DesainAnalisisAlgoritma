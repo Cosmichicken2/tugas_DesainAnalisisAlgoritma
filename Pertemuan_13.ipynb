{
  "nbformat": 4,
  "nbformat_minor": 0,
  "metadata": {
    "colab": {
      "provenance": [],
      "authorship_tag": "ABX9TyMI4B69MdRDqFviVliR5djE",
      "include_colab_link": true
    },
    "kernelspec": {
      "name": "python3",
      "display_name": "Python 3"
    },
    "language_info": {
      "name": "python"
    }
  },
  "cells": [
    {
      "cell_type": "markdown",
      "metadata": {
        "id": "view-in-github",
        "colab_type": "text"
      },
      "source": [
        "<a href=\"https://colab.research.google.com/github/Haykalilys/tugas_DesainAnalisisAlgoritma/blob/master/Pertemuan_13.ipynb\" target=\"_parent\"><img src=\"https://colab.research.google.com/assets/colab-badge.svg\" alt=\"Open In Colab\"/></a>"
      ]
    },
    {
      "cell_type": "code",
      "execution_count": null,
      "metadata": {
        "id": "3OyZMDujfhS1"
      },
      "outputs": [],
      "source": [
        "def bfs (graph,start):\n",
        "  visited=[]\n",
        "  queue = []\n",
        "  queue = [start]\n",
        "  while queue:\n",
        "    node = queue.pop(0)\n",
        "    if node not in visited:\n",
        "      visited.append(node)\n",
        "      neighbours = graph[node]\n",
        "      for neighbour in neighbours:\n",
        "        queue.append(neighbour)\n",
        "  return visited"
      ]
    },
    {
      "cell_type": "code",
      "source": [
        "graph = {'amin' : ['wasim','nick','mike'],\n",
        "          'wasim' : ['imran','amin'],\n",
        "          'imran' : ['wasim','faras'],\n",
        "          'faras' : ['imran'],\n",
        "          'mike' : ['amin'],\n",
        "          'nick' : ['amin'],\n",
        "         }"
      ],
      "metadata": {
        "id": "liYzZ_Kjgg5M"
      },
      "execution_count": null,
      "outputs": []
    },
    {
      "cell_type": "code",
      "source": [
        "bfs(graph,'amin')"
      ],
      "metadata": {
        "colab": {
          "base_uri": "https://localhost:8080/"
        },
        "id": "Oh1-YEUPhYNU",
        "outputId": "87316b22-e87e-4362-ec7a-fe08fb5f7cdb"
      },
      "execution_count": null,
      "outputs": [
        {
          "output_type": "execute_result",
          "data": {
            "text/plain": [
              "['amin', 'wasim', 'nick', 'mike', 'imran', 'faras']"
            ]
          },
          "metadata": {},
          "execution_count": 24
        }
      ]
    },
    {
      "cell_type": "code",
      "source": [
        "# O amin ---------------------\n",
        "# |              |           |\n",
        "# O wasim       O nick     O mike\n",
        "# |\n",
        "# O imran\n",
        "# |\n",
        "# O faras\n",
        "\n",
        "bfs(graph,'amin')"
      ],
      "metadata": {
        "colab": {
          "base_uri": "https://localhost:8080/"
        },
        "id": "y5YDD9LLhewr",
        "outputId": "097e2f45-4f15-454c-b572-e7ef6d9e1b5a"
      },
      "execution_count": null,
      "outputs": [
        {
          "output_type": "execute_result",
          "data": {
            "text/plain": [
              "['amin', 'wasim', 'nick', 'mike', 'imran', 'faras']"
            ]
          },
          "metadata": {},
          "execution_count": 25
        }
      ]
    },
    {
      "cell_type": "code",
      "source": [
        "# O amin ---------------------\n",
        "# |              |           |\n",
        "# O wasim       O nick     O mike\n",
        "# |\n",
        "# O imran\n",
        "# |\n",
        "# O faras\n",
        "\n",
        "bfs(graph,'wasim')"
      ],
      "metadata": {
        "colab": {
          "base_uri": "https://localhost:8080/"
        },
        "id": "gD_CzeBliCpz",
        "outputId": "517ab917-e8f6-4f4f-b6f0-8ac76e16bedf"
      },
      "execution_count": null,
      "outputs": [
        {
          "output_type": "execute_result",
          "data": {
            "text/plain": [
              "['wasim', 'imran', 'amin', 'faras', 'nick', 'mike']"
            ]
          },
          "metadata": {},
          "execution_count": 26
        }
      ]
    },
    {
      "cell_type": "code",
      "source": [
        "# O amin ---------------------\n",
        "# |              |           |\n",
        "# O wasim       O nick     O mike\n",
        "# |\n",
        "# O imran\n",
        "# |\n",
        "# O faras\n",
        "\n",
        "bfs(graph,'faras')"
      ],
      "metadata": {
        "colab": {
          "base_uri": "https://localhost:8080/"
        },
        "id": "toPZTe8liHdr",
        "outputId": "51b7028c-2aa3-471e-a568-f15442c070c5"
      },
      "execution_count": null,
      "outputs": [
        {
          "output_type": "execute_result",
          "data": {
            "text/plain": [
              "['faras', 'imran', 'wasim', 'amin', 'nick', 'mike']"
            ]
          },
          "metadata": {},
          "execution_count": 27
        }
      ]
    },
    {
      "cell_type": "code",
      "source": [
        "# LATIHAN BFS\n",
        "\n",
        "def bfs (graphs,start):\n",
        "  visited=[]\n",
        "  queue = []\n",
        "  queue = [start]\n",
        "  while queue:\n",
        "    node = queue.pop(0)\n",
        "    if node not in visited:\n",
        "      visited.append(node)\n",
        "      neighbours = graphs[node]\n",
        "      for neighbour in neighbours:\n",
        "        queue.append(neighbour)\n",
        "  return visited"
      ],
      "metadata": {
        "id": "XxSc5LOqj5z8"
      },
      "execution_count": null,
      "outputs": []
    },
    {
      "cell_type": "code",
      "source": [
        "graphs = { '0' : ['9', '11', '7'],\n",
        "          '9' : ['10', '8', '0'],\n",
        "          '7' : ['6', '3', '0', '11'],\n",
        "          '8' : ['1', '12', '9'],\n",
        "          '6' : ['5'],\n",
        "          '12' : ['2'],\n",
        "          '3' : ['2', '4'],\n",
        "          '11' : ['7', '0'],\n",
        "          '10' : ['1', '9'],\n",
        "          '1' : ['10', '8'],\n",
        "          '2' : ['12', '3'],\n",
        "          '4' : ['3'],\n",
        "          '5' : ['6'],\n",
        "         }"
      ],
      "metadata": {
        "id": "T6gJa6FSloKs"
      },
      "execution_count": null,
      "outputs": []
    },
    {
      "cell_type": "code",
      "source": [
        "bfs(graphs, '0')"
      ],
      "metadata": {
        "colab": {
          "base_uri": "https://localhost:8080/"
        },
        "id": "0_GFLuZxooDk",
        "outputId": "12cd273f-80bc-4a6c-c25b-f06355abc785"
      },
      "execution_count": null,
      "outputs": [
        {
          "output_type": "execute_result",
          "data": {
            "text/plain": [
              "['0', '9', '11', '7', '10', '8', '6', '3', '1', '12', '5', '2', '4']"
            ]
          },
          "metadata": {},
          "execution_count": 44
        }
      ]
    },
    {
      "cell_type": "code",
      "source": [
        "# LATIHAN 2 BFS\n",
        "\n",
        "def bfs (grapht,start):\n",
        "  visited=[]\n",
        "  queue = []\n",
        "  queue = [start]\n",
        "  while queue:\n",
        "    node = queue.pop(0)\n",
        "    if node not in visited:\n",
        "      visited.append(node)\n",
        "      neighbours = grapht[node]\n",
        "      for neighbour in neighbours:\n",
        "        queue.append(neighbour)\n",
        "  return visited"
      ],
      "metadata": {
        "id": "CWDXCUL7qk-0"
      },
      "execution_count": 69,
      "outputs": []
    },
    {
      "cell_type": "code",
      "source": [
        "grapht = { 'rektor' : ['warek 1', 'warek 2'],\n",
        "          'warek 2' : ['kaprodi 1', 'kaprodi 2', 'kaprodi 3','rektor'],\n",
        "          'warek 1' : ['rektor'],\n",
        "          'kaprodi 1' : ['dosen A', 'dosen B', 'dosen C','warek 2'],\n",
        "          'kaprodi 2' : ['dosen D', 'dosen E','warek 2'],\n",
        "          'kaprodi 3' : ['dosen F', 'dosen G','warek 2'],\n",
        "          'dosen A' : ['kaprodi 1'],\n",
        "          'dosen B' : ['kaprodi 1'],\n",
        "          'dosen C' : ['kaprodi 1'],\n",
        "          'dosen D' : ['kaprodi 2'],\n",
        "          'dosen E' : ['kaprodi 2'],\n",
        "          'dosen F' : ['kaprodi 3'],\n",
        "          'dosen G' : ['kaprodi 3'],\n",
        "\n",
        "\n",
        "         }"
      ],
      "metadata": {
        "id": "9oeDBs_3quVb"
      },
      "execution_count": 70,
      "outputs": []
    },
    {
      "cell_type": "code",
      "source": [
        "bfs(grapht, 'rektor')"
      ],
      "metadata": {
        "colab": {
          "base_uri": "https://localhost:8080/"
        },
        "id": "Gi3GD66drXpT",
        "outputId": "0a9a8caf-8e49-4ace-9f5c-fd150ee745c8"
      },
      "execution_count": 71,
      "outputs": [
        {
          "output_type": "execute_result",
          "data": {
            "text/plain": [
              "['rektor',\n",
              " 'warek 1',\n",
              " 'warek 2',\n",
              " 'kaprodi 1',\n",
              " 'kaprodi 2',\n",
              " 'kaprodi 3',\n",
              " 'dosen A',\n",
              " 'dosen B',\n",
              " 'dosen C',\n",
              " 'dosen D',\n",
              " 'dosen E',\n",
              " 'dosen F',\n",
              " 'dosen G']"
            ]
          },
          "metadata": {},
          "execution_count": 71
        }
      ]
    },
    {
      "cell_type": "code",
      "source": [
        "# DEPTH-FIRST SEARCH\n",
        "\n",
        "def dfs(visited, graph, node):\n",
        "  if node not in visited:\n",
        "    print(node)\n",
        "    visited.add(node)\n",
        "    for neighbour in graph[node]:\n",
        "      dfs(visited, graph, neighbour)"
      ],
      "metadata": {
        "id": "hl3gQnBPi6gE"
      },
      "execution_count": null,
      "outputs": []
    },
    {
      "cell_type": "code",
      "source": [
        "graph = {'amin' : ['wasim','nick','mike'],\n",
        "          'wasim' : ['imran','amin'],\n",
        "          'imran' : ['wasim','faras'],\n",
        "          'faras' : ['imran'],\n",
        "          'mike' : ['amin'],\n",
        "          'nick' : ['amin'],\n",
        "         }"
      ],
      "metadata": {
        "id": "9NJVvktijdJb"
      },
      "execution_count": null,
      "outputs": []
    },
    {
      "cell_type": "code",
      "source": [
        "# O amin ---------------------\n",
        "# |              |           |\n",
        "# O wasim       O nick     O mike\n",
        "# |\n",
        "# O imran\n",
        "# |\n",
        "# O faras\n",
        "\n",
        "visited = set()\n",
        "dfs(visited, graph,'amin')"
      ],
      "metadata": {
        "colab": {
          "base_uri": "https://localhost:8080/"
        },
        "id": "DGzc4DkejgU8",
        "outputId": "77498365-fad2-409a-e2d1-db50c7ad12ae"
      },
      "execution_count": null,
      "outputs": [
        {
          "output_type": "stream",
          "name": "stdout",
          "text": [
            "amin\n",
            "wasim\n",
            "imran\n",
            "faras\n",
            "nick\n",
            "mike\n"
          ]
        }
      ]
    },
    {
      "cell_type": "code",
      "source": [
        "# O amin ---------------------\n",
        "# |              |           |\n",
        "# O wasim       O nick     O mike\n",
        "# |\n",
        "# O imran\n",
        "# |\n",
        "# O faras\n",
        "\n",
        "visited = set()\n",
        "dfs(visited, graph,'wasim')"
      ],
      "metadata": {
        "colab": {
          "base_uri": "https://localhost:8080/"
        },
        "id": "xeTk1kPOjumr",
        "outputId": "0796a1d6-49c9-45a9-a7f2-de4340ac0fce"
      },
      "execution_count": null,
      "outputs": [
        {
          "output_type": "stream",
          "name": "stdout",
          "text": [
            "wasim\n",
            "imran\n",
            "faras\n",
            "amin\n",
            "nick\n",
            "mike\n"
          ]
        }
      ]
    },
    {
      "cell_type": "code",
      "source": [
        "# O amin ---------------------\n",
        "# |              |           |\n",
        "# O wasim       O nick     O mike\n",
        "# |\n",
        "# O imran\n",
        "# |\n",
        "# O faras\n",
        "\n",
        "visited = set()\n",
        "dfs(visited, graph,'faras')"
      ],
      "metadata": {
        "colab": {
          "base_uri": "https://localhost:8080/"
        },
        "id": "HtU4SA_ojwxj",
        "outputId": "4dcb2be2-d9a1-4f0d-dd23-6acbfdf6d14f"
      },
      "execution_count": null,
      "outputs": [
        {
          "output_type": "stream",
          "name": "stdout",
          "text": [
            "faras\n",
            "imran\n",
            "wasim\n",
            "amin\n",
            "nick\n",
            "mike\n"
          ]
        }
      ]
    },
    {
      "cell_type": "code",
      "source": [
        "# LATIHAN DFS\n",
        "\n",
        "def dfs(visited, graphs, node):\n",
        "  if node not in visited:\n",
        "    print(node)\n",
        "    visited.add(node)\n",
        "    for neighbour in graphs[node]:\n",
        "      dfs(visited, graphs, neighbour)"
      ],
      "metadata": {
        "id": "r2mMEU8Yzlps"
      },
      "execution_count": 73,
      "outputs": []
    },
    {
      "cell_type": "code",
      "source": [
        "graphs = { '0' : ['1', '9'],\n",
        "          '1' : ['8'],\n",
        "          '9' : ['8'],\n",
        "          '8' : ['1', '9', '7'],\n",
        "          '7' : ['10','11','6','3','8'],\n",
        "          '10' : ['11','7'],\n",
        "          '11' : ['10', '7'],\n",
        "          '6' : ['7', '5'],\n",
        "          '5' : ['3', '6'],\n",
        "          '3' : ['2', '4','5','7'],\n",
        "          '4' : ['3'],\n",
        "          '2' : ['3'],\n",
        "\n",
        "         }"
      ],
      "metadata": {
        "id": "Iwk4773w0rEq"
      },
      "execution_count": 77,
      "outputs": []
    },
    {
      "cell_type": "code",
      "source": [
        "visited = set()\n",
        "dfs(visited, graphs,'0')"
      ],
      "metadata": {
        "colab": {
          "base_uri": "https://localhost:8080/"
        },
        "id": "pA7vOSI62ILE",
        "outputId": "4da6833b-f9e8-4f09-cb4d-27eaf48d79d5"
      },
      "execution_count": 81,
      "outputs": [
        {
          "output_type": "stream",
          "name": "stdout",
          "text": [
            "0\n",
            "1\n",
            "8\n",
            "9\n",
            "7\n",
            "10\n",
            "11\n",
            "6\n",
            "5\n",
            "3\n",
            "2\n",
            "4\n"
          ]
        }
      ]
    },
    {
      "cell_type": "code",
      "source": [
        "# LATIHAN DFS 2\n",
        "\n",
        "def dfs(visited, grapht, node):\n",
        "  if node not in visited:\n",
        "    print(node)\n",
        "    visited.add(node)\n",
        "    for neighbour in grapht[node]:\n",
        "      dfs(visited, grapht, neighbour)"
      ],
      "metadata": {
        "id": "ty5niX-g272j"
      },
      "execution_count": 82,
      "outputs": []
    },
    {
      "cell_type": "code",
      "source": [
        "grapht = { 'rektor' : ['warek 1', 'warek 2'],\n",
        "          'warek 2' : ['kaprodi 1', 'kaprodi 2', 'kaprodi 3','rektor'],\n",
        "          'warek 1' : ['rektor'],\n",
        "          'kaprodi 1' : ['dosen A', 'dosen B', 'dosen C','warek 2'],\n",
        "          'kaprodi 2' : ['dosen D', 'dosen E','warek 2'],\n",
        "          'kaprodi 3' : ['dosen F', 'dosen G','warek 2'],\n",
        "          'dosen A' : ['kaprodi 1'],\n",
        "          'dosen B' : ['kaprodi 1'],\n",
        "          'dosen C' : ['kaprodi 1'],\n",
        "          'dosen D' : ['kaprodi 2'],\n",
        "          'dosen E' : ['kaprodi 2'],\n",
        "          'dosen F' : ['kaprodi 3'],\n",
        "          'dosen G' : ['kaprodi 3'],\n",
        "\n",
        "\n",
        "         }"
      ],
      "metadata": {
        "id": "wyOQ9aC73F3T"
      },
      "execution_count": 83,
      "outputs": []
    },
    {
      "cell_type": "code",
      "source": [
        "visited = set()\n",
        "dfs(visited, grapht,'rektor')"
      ],
      "metadata": {
        "colab": {
          "base_uri": "https://localhost:8080/"
        },
        "id": "_ohS8ETA3JzC",
        "outputId": "f26c0303-03aa-4e62-c557-801149a1dc84"
      },
      "execution_count": 85,
      "outputs": [
        {
          "output_type": "stream",
          "name": "stdout",
          "text": [
            "rektor\n",
            "warek 1\n",
            "warek 2\n",
            "kaprodi 1\n",
            "dosen A\n",
            "dosen B\n",
            "dosen C\n",
            "kaprodi 2\n",
            "dosen D\n",
            "dosen E\n",
            "kaprodi 3\n",
            "dosen F\n",
            "dosen G\n"
          ]
        }
      ]
    }
  ]
}