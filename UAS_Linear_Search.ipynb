{
  "cells": [
    {
      "cell_type": "markdown",
      "metadata": {
        "id": "view-in-github",
        "colab_type": "text"
      },
      "source": [
        "<a href=\"https://colab.research.google.com/github/Haykalilys/tugas_DesainAnalisisAlgoritma/blob/master/UAS_Linear_Search.ipynb\" target=\"_parent\"><img src=\"https://colab.research.google.com/assets/colab-badge.svg\" alt=\"Open In Colab\"/></a>"
      ]
    },
    {
      "cell_type": "code",
      "execution_count": 1,
      "metadata": {
        "colab": {
          "base_uri": "https://localhost:8080/"
        },
        "id": "Uh1sy0sqBly7",
        "outputId": "dd01a8df-a179-4fa4-9b88-f84b40df4239"
      },
      "outputs": [
        {
          "output_type": "stream",
          "name": "stdout",
          "text": [
            "\n",
            "Menu:\n",
            "1. Cari Penduduk\n",
            "2. Tambah Penduduk\n",
            "3. Keluar\n",
            "Pilih menu (1/2/3): 1\n",
            "Masukkan nama penduduk yang ingin dicari: Jarwo\n",
            "Informasi penduduk dengan nama Jarwo: {'nama': 'Jarwo', 'nomor_identitas': '987654321', 'alamat': 'Jalan Desa Damai'}\n",
            "\n",
            "Menu:\n",
            "1. Cari Penduduk\n",
            "2. Tambah Penduduk\n",
            "3. Keluar\n",
            "Pilih menu (1/2/3): 2\n",
            "Masukkan nama penduduk baru: Malik\n",
            "Masukkan nomor identitas penduduk baru: 2022071072\n",
            "Masukkan alamat penduduk baru: Jalan Desa Kenari\n",
            "Data penduduk Malik berhasil ditambahkan.\n",
            "\n",
            "Menu:\n",
            "1. Cari Penduduk\n",
            "2. Tambah Penduduk\n",
            "3. Keluar\n",
            "Pilih menu (1/2/3): 3\n",
            "Terima kasih. Program selesai.\n"
          ]
        }
      ],
      "source": [
        "def linear_search(nama, daftar_penduduk):\n",
        "    for penduduk in daftar_penduduk:\n",
        "        if penduduk['nama'] == nama:\n",
        "            return penduduk\n",
        "    return None\n",
        "\n",
        "def tambah_penduduk(nama, nomor_identitas, alamat, daftar_penduduk):\n",
        "    penduduk_baru = {'nama': nama, 'nomor_identitas': nomor_identitas, 'alamat': alamat}\n",
        "    daftar_penduduk.append(penduduk_baru)\n",
        "    print(f\"Data penduduk {nama} berhasil ditambahkan.\")\n",
        "\n",
        "# Contoh daftar penduduk\n",
        "daftar_penduduk = [\n",
        "    {'nama': 'Supriyadi', 'nomor_identitas': '123456789', 'alamat': 'Jalan Desa Indah'},\n",
        "    {'nama': 'Jarwo', 'nomor_identitas': '987654321', 'alamat': 'Jalan Desa Damai'},\n",
        "    {'nama': 'Soeratman', 'nomor_identitas': '111222333', 'alamat': 'Jalan Desa Makmur'},\n",
        "]\n",
        "\n",
        "# Program utama\n",
        "while True:\n",
        "    print(\"\\nMenu:\")\n",
        "    print(\"1. Cari Penduduk\")\n",
        "    print(\"2. Tambah Penduduk\")\n",
        "    print(\"3. Keluar\")\n",
        "    pilihan = input(\"Pilih menu (1/2/3): \")\n",
        "\n",
        "    if pilihan == '1':\n",
        "        nama_cari = input(\"Masukkan nama penduduk yang ingin dicari: \")\n",
        "        hasil_pencarian = linear_search(nama_cari, daftar_penduduk)\n",
        "        if hasil_pencarian:\n",
        "            print(f\"Informasi penduduk dengan nama {nama_cari}: {hasil_pencarian}\")\n",
        "        else:\n",
        "            print(f\"Maaf, nama {nama_cari} tidak ditemukan dalam daftar penduduk.\")\n",
        "\n",
        "    elif pilihan == '2':\n",
        "        nama_baru = input(\"Masukkan nama penduduk baru: \")\n",
        "        nomor_identitas_baru = input(\"Masukkan nomor identitas penduduk baru: \")\n",
        "        alamat_baru = input(\"Masukkan alamat penduduk baru: \")\n",
        "        tambah_penduduk(nama_baru, nomor_identitas_baru, alamat_baru, daftar_penduduk)\n",
        "\n",
        "    elif pilihan == '3':\n",
        "        print(\"Terima kasih. Program selesai.\")\n",
        "        break\n",
        "\n",
        "    else:\n",
        "        print(\"Pilihan tidak valid. Silakan pilih 1, 2, atau 3.\")\n"
      ]
    }
  ],
  "metadata": {
    "colab": {
      "provenance": [],
      "authorship_tag": "ABX9TyMpOT+RsgblW+ATPBQK39Or",
      "include_colab_link": true
    },
    "kernelspec": {
      "display_name": "Python 3",
      "name": "python3"
    },
    "language_info": {
      "name": "python"
    }
  },
  "nbformat": 4,
  "nbformat_minor": 0
}